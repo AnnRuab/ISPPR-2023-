{
 "cells": [
  {
   "attachments": {},
   "cell_type": "markdown",
   "metadata": {},
   "source": [
    "1. Завантажити початковi данi.\n",
    "2. Представити данi графiчно.\n",
    "3. Iнiцiалiзувати параметри: швидкiсть навчання, кiлькiсть епох (=100) i додатково, якщо задано згiдно з варiантом, кiлькiсть пакетiв i/або параметр регуляризацiї.\n",
    "4. Iнiцiалiзувати вектор параметрiв.\n",
    "5. Реалiзувати функцiю, яка задає модель, наприклад:\n",
    "• лiнiйну регресiю,\n",
    "• полiномiальну регресiю,\n",
    "• iншу криву, яку пiдiбрати вiдповiдно до заданих даних.\n",
    "6. Задати функцiю втрат (одну згiдно з варiантом):\n",
    "• MSE,\n",
    "• MSE з регуляризацiєю за нормами L1 або L2.\n",
    "7. Задати операцiю, яка буде викликатися на кожнiй iтерацiї алгоритма навчання:\n",
    "• алгоритм градiєнтного спуску,\n",
    "• алгоритм мiнi-пакетного градiєнтного спуску,\n",
    "• алгоритм градiєнтного спуску з моментом,\n",
    "• алгоритм Adagrad,\n",
    "• алгоритм Adadelta,\n",
    "• алгоритм Adam.\n",
    "8. Виконати навчання моделi.\n",
    "9. Виводити значення функцiї втрат через кожнi 10 епох.\n",
    "10. Зберегти контрольнi точки через регулярнi iнтервали пiд час навчання. В кiнцi навчання зберегти результуючу модель. Вiдновити останню контрольну точку при запуску, якщо навчання було перервано.\n",
    "11. Налаштувати гiперпараметр швидкiсть навчання i додатково, якщо задано згiдно варiанту, розмiр мiнi-пакета. Подивитися на форму кривої навчання.\n",
    "12. Дослiдити рiзнi значення параметра регуляризацiї i пiдiбрати найкраще з них, якщо згiдно з варiантом задано регуляризовану функцiю втрат. В цьому випадку данi мають бути попередньо розбитi на навчальний та перевiрочний набори.\n",
    "13. Побудувати графiк з початковими даними та лiнiєю регресiї."
   ]
  },
  {
   "cell_type": "code",
   "execution_count": 1,
   "metadata": {},
   "outputs": [
    {
     "ename": "ModuleNotFoundError",
     "evalue": "No module named 'matplotlib'",
     "output_type": "error",
     "traceback": [
      "\u001b[1;31m---------------------------------------------------------------------------\u001b[0m",
      "\u001b[1;31mModuleNotFoundError\u001b[0m                       Traceback (most recent call last)",
      "Cell \u001b[1;32mIn[1], line 5\u001b[0m\n\u001b[0;32m      3\u001b[0m \u001b[39mimport\u001b[39;00m \u001b[39mrandom\u001b[39;00m\n\u001b[0;32m      4\u001b[0m \u001b[39mimport\u001b[39;00m \u001b[39mtensorflow\u001b[39;00m \u001b[39mas\u001b[39;00m \u001b[39mtf\u001b[39;00m\n\u001b[1;32m----> 5\u001b[0m \u001b[39mimport\u001b[39;00m \u001b[39mmatplotlib_inline\u001b[39;00m\n\u001b[0;32m      6\u001b[0m \u001b[39mimport\u001b[39;00m \u001b[39mmatplotlib\u001b[39;00m\u001b[39m.\u001b[39;00m\u001b[39mpyplot\u001b[39;00m \u001b[39mas\u001b[39;00m \u001b[39mplt\u001b[39;00m\n\u001b[0;32m      7\u001b[0m \u001b[39mfrom\u001b[39;00m \u001b[39msklearn\u001b[39;00m\u001b[39m.\u001b[39;00m\u001b[39mmodel_selection\u001b[39;00m \u001b[39mimport\u001b[39;00m train_test_split\n",
      "File \u001b[1;32mc:\\Users\\Ann\\anaconda3\\envs\\tenserflow\\lib\\site-packages\\matplotlib_inline\\__init__.py:1\u001b[0m\n\u001b[1;32m----> 1\u001b[0m \u001b[39mfrom\u001b[39;00m \u001b[39m.\u001b[39;00m \u001b[39mimport\u001b[39;00m backend_inline, config  \u001b[39m# noqa\u001b[39;00m\n\u001b[0;32m      2\u001b[0m __version__ \u001b[39m=\u001b[39m \u001b[39m\"\u001b[39m\u001b[39m0.1.6\u001b[39m\u001b[39m\"\u001b[39m\n",
      "File \u001b[1;32mc:\\Users\\Ann\\anaconda3\\envs\\tenserflow\\lib\\site-packages\\matplotlib_inline\\backend_inline.py:6\u001b[0m\n\u001b[0;32m      1\u001b[0m \u001b[39m\"\"\"A matplotlib backend for publishing figures via display_data\"\"\"\u001b[39;00m\n\u001b[0;32m      3\u001b[0m \u001b[39m# Copyright (c) IPython Development Team.\u001b[39;00m\n\u001b[0;32m      4\u001b[0m \u001b[39m# Distributed under the terms of the BSD 3-Clause License.\u001b[39;00m\n\u001b[1;32m----> 6\u001b[0m \u001b[39mimport\u001b[39;00m \u001b[39mmatplotlib\u001b[39;00m\n\u001b[0;32m      7\u001b[0m \u001b[39mfrom\u001b[39;00m \u001b[39mmatplotlib\u001b[39;00m \u001b[39mimport\u001b[39;00m colors\n\u001b[0;32m      8\u001b[0m \u001b[39mfrom\u001b[39;00m \u001b[39mmatplotlib\u001b[39;00m\u001b[39m.\u001b[39;00m\u001b[39mbackends\u001b[39;00m \u001b[39mimport\u001b[39;00m backend_agg\n",
      "\u001b[1;31mModuleNotFoundError\u001b[0m: No module named 'matplotlib'"
     ]
    }
   ],
   "source": [
    "import numpy as np\n",
    "import pandas as pd\n",
    "import random\n",
    "import tensorflow as tf\n",
    "import matplotlib_inline\n",
    "import matplotlib.pyplot as plt\n",
    "from sklearn.model_selection import train_test_split\n",
    "from sklearn.preprocessing import StandardScaler, PolynomialFeatures\n",
    "from sklearn.metrics import mean_squared_error\n",
    "import optuna\n",
    "\n",
    "NUM_EPOCHS = 100\n",
    "DEGREE_1 = 5\n",
    "DEGREE_2 = 3\n",
    "\n",
    "def make_data(N, err=1.0, rseed=1):\n",
    "    rng = np.random.RandomState(rseed)\n",
    "    X = rng.rand(N, 1 )**2\n",
    "    y = 10 - 1 / (X.ravel() + 0.1)\n",
    "    if err > 0 :\n",
    "        y += err * rng.randn(N)\n",
    "    return X, y\n",
    "X, y = make_data(200)"
   ]
  },
  {
   "cell_type": "code",
   "execution_count": null,
   "metadata": {},
   "outputs": [
    {
     "ename": "",
     "evalue": "",
     "output_type": "error",
     "traceback": [
      "\u001b[1;31mRunning cells with 'tenserflow' requires ipykernel package.\n",
      "\u001b[1;31mRun the following command to install 'ipykernel' into the Python environment. \n",
      "\u001b[1;31mCommand: 'conda install -n tenserflow ipykernel --update-deps --force-reinstall'"
     ]
    }
   ],
   "source": [
    "# представити дані графічно\n",
    "plt.scatter(X, y)  # Plotting the data points\n",
    "plt.xlabel('X')\n",
    "plt.ylabel('y')\n",
    "plt.title('Data Visualization')\n",
    "plt.show()"
   ]
  },
  {
   "attachments": {},
   "cell_type": "markdown",
   "metadata": {},
   "source": [
    "Розбиваємо дані на 3 датасети. Навчальний, валідаційний (для підбору гіперпараметрів) та тестовий (для оцінювання моделі)"
   ]
  },
  {
   "cell_type": "code",
   "execution_count": null,
   "metadata": {},
   "outputs": [
    {
     "ename": "",
     "evalue": "",
     "output_type": "error",
     "traceback": [
      "\u001b[1;31mRunning cells with 'tenserflow' requires ipykernel package.\n",
      "\u001b[1;31mRun the following command to install 'ipykernel' into the Python environment. \n",
      "\u001b[1;31mCommand: 'conda install -n tenserflow ipykernel --update-deps --force-reinstall'"
     ]
    }
   ],
   "source": [
    "X_train_val, X_test, y_train_val, y_test = train_test_split(X, y, test_size = 0.2, random_state = 15)\n",
    "X_train, X_val, y_train, y_val = train_test_split(X_train_val, y_train_val, test_size=0.2, random_state=15)\n",
    "\n",
    "poly = PolynomialFeatures(degree=DEGREE_1)\n",
    "\n",
    "X_train = poly.fit_transform(X_train.reshape(-1, 1))\n",
    "X_train_val = poly.transform(X_train_val.reshape(-1, 1))\n",
    "X_test = poly.transform(X_test.reshape(-1, 1))\n",
    "X_val = poly.transform(X_val.reshape(-1, 1))\n",
    "X = poly.transform(X.reshape(-1, 1))\n",
    "\n",
    "stdscaler = StandardScaler()\n",
    "\n",
    "y_train = stdscaler.fit_transform(y_train.reshape(-1, 1))\n",
    "y_train_val = stdscaler.transform(y_train_val.reshape(-1, 1))\n",
    "y_test = stdscaler.transform(y_test.reshape(-1, 1))\n",
    "y_val = stdscaler.transform(y_val.reshape(-1, 1))\n",
    "y = stdscaler.transform(y.reshape(-1, 1))"
   ]
  },
  {
   "attachments": {},
   "cell_type": "markdown",
   "metadata": {},
   "source": [
    "Подивимося на описову статистику "
   ]
  },
  {
   "cell_type": "code",
   "execution_count": null,
   "metadata": {},
   "outputs": [
    {
     "ename": "",
     "evalue": "",
     "output_type": "error",
     "traceback": [
      "\u001b[1;31mRunning cells with 'tenserflow' requires ipykernel package.\n",
      "\u001b[1;31mRun the following command to install 'ipykernel' into the Python environment. \n",
      "\u001b[1;31mCommand: 'conda install -n tenserflow ipykernel --update-deps --force-reinstall'"
     ]
    }
   ],
   "source": [
    "pd.Series(y.flatten()).describe()"
   ]
  }
 ],
 "metadata": {
  "kernelspec": {
   "display_name": "tenserflow",
   "language": "python",
   "name": "python3"
  },
  "language_info": {
   "codemirror_mode": {
    "name": "ipython",
    "version": 3
   },
   "file_extension": ".py",
   "mimetype": "text/x-python",
   "name": "python",
   "nbconvert_exporter": "python",
   "pygments_lexer": "ipython3",
   "version": "3.9.16 (main, Mar  8 2023, 10:39:24) [MSC v.1916 64 bit (AMD64)]"
  },
  "orig_nbformat": 4,
  "vscode": {
   "interpreter": {
    "hash": "27afdfba6b57a22aeca773078ea409b695909f37e5a0dfeb6416ac8fc61cf56d"
   }
  }
 },
 "nbformat": 4,
 "nbformat_minor": 2
}
